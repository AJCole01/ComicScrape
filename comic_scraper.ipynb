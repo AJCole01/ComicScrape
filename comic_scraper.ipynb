{
 "cells": [
  {
   "cell_type": "markdown",
   "metadata": {},
   "source": [
    "import time\n",
    "from selenium import webdriver\n",
    "from selenium.webdriver.common.keys import Keys\n",
    "from selenium.webdriver.common.by import By\n",
    "from selenium.common.exceptions import TimeoutException"
   ]
  },
  {
   "cell_type": "markdown",
   "metadata": {},
   "source": [
    "url = 'https://readcomiconline.li/Comic/Batman-2016'\n",
    "cDriverPATH = 'C:\\Program Files (x86)\\chromedriver.exe'"
   ]
  },
  {
   "cell_type": "markdown",
   "metadata": {},
   "source": [
    "browser = webdriver.Chrome(cDriverPATH)\n",
    "t = time.time()\n",
    "try:\n",
    "    browser.get(url)\n",
    "except TimeoutException:\n",
    "    browser.execute_script(\"window.stop();\")\n",
    "print(browser.title)"
   ]
  },
  {
   "cell_type": "markdown",
   "metadata": {},
   "source": [
    "search = browser.find_element(By.XPATH, '//*[@id=\"leftside\"]/div[3]/div[2]/div/table/tbody/tr[4]/td[1]/a')\n",
    "search.click()\n",
    "time.sleep(5)\n",
    "browser.back()"
   ]
  },
  {
   "cell_type": "code",
   "execution_count": 1,
   "metadata": {},
   "outputs": [],
   "source": [
    "from bs4 import BeautifulSoup\n",
    "import requests\n",
    "import schedule\n",
    "import time"
   ]
  },
  {
   "cell_type": "code",
   "execution_count": 2,
   "metadata": {},
   "outputs": [],
   "source": [
    "def getComics():\n",
    "\n",
    "    url = \"https://readcomiconline.li/Comic/Batman-2016\"\n",
    "    result = requests.get(url)\n",
    "    doc = BeautifulSoup(result.text, \"html.parser\")\n",
    "    f = open('BatmanComics.txt', 'w')\n",
    "    for link in doc.body.ul.find_all('li'):\n",
    "        line = \"{0} : https://readcomiconline.li{1}\\n\".format(link.span.get_text(), link.a.get(\"href\"))\n",
    "        f.write(line)\n",
    "    f.close()"
   ]
  },
  {
   "cell_type": "code",
   "execution_count": 3,
   "metadata": {},
   "outputs": [],
   "source": [
    "getComics()"
   ]
  },
  {
   "cell_type": "code",
   "execution_count": 4,
   "metadata": {},
   "outputs": [],
   "source": [
    "#Functionality to run on VPS to run continuously. NOT IN USE CURRENTLY\n",
    "#schedule.every(1).week.do(getComics)\n",
    "#while True:\n",
    "#    schedule.run_pending()\n",
    "#    time.sleep(1)"
   ]
  }
 ],
 "metadata": {
  "kernelspec": {
   "display_name": "Python 3",
   "language": "python",
   "name": "python3"
  },
  "language_info": {
   "codemirror_mode": {
    "name": "ipython",
    "version": 3
   },
   "file_extension": ".py",
   "mimetype": "text/x-python",
   "name": "python",
   "nbconvert_exporter": "python",
   "pygments_lexer": "ipython3",
   "version": "3.11.2"
  },
  "orig_nbformat": 4,
  "vscode": {
   "interpreter": {
    "hash": "b11fee5185f51e4b69fdb297e50bf172f625b70efa311b6caa3de3389460b256"
   }
  }
 },
 "nbformat": 4,
 "nbformat_minor": 2
}
